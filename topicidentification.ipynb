{
 "cells": [
  {
   "cell_type": "code",
   "execution_count": 7,
   "id": "236d9841-85bb-49d9-a9af-f428da3f44cf",
   "metadata": {},
   "outputs": [],
   "source": [
    "sample1 = \"Our board of directors boasts 11 seasoned technology and business leaders from Adobe, GSK, HGGC and more.\"\n",
    "sample2 = \"Our executives lead by example and guide us to accomplish great things every day.\"\n",
    "sample3 = \"Working at Pluralisght means being surrounded by smart, passionate people who inspire us to do our best work.\"\n",
    "sample4 = \"A leadership team with vision.\"\n",
    "sample5 = \"Courses on cloud, microservices, machine learning, security, Agile and more.\"\n",
    "sample6 = \"Interactive courses and projects.\"\n",
    "sample7 = \"Personalized course recommendations from Iris.\"\n",
    "sample8 = \"We’re excited to announce that Pluralsight has ranked #9 on the Great Place to Work 2018, Best Medium Workplaces list!\"\n",
    "sample9 = \"Few of the job opportunities include Implementation Consultant - Analytics, Manager - assessment production, Chief Information Officer, Director of Communications.\"\n",
    "\n",
    "# compile documents\n",
    "compileddoc = [sample1, sample2, sample3, sample4, sample5, sample6, sample7, sample8, sample9]"
   ]
  },
  {
   "cell_type": "code",
   "execution_count": 8,
   "id": "adb7e841-dcf1-4f20-bfb5-64764b215384",
   "metadata": {},
   "outputs": [
    {
     "name": "stdout",
     "output_type": "stream",
     "text": [
      "Our board of directors boasts 11 seasoned technology and business leaders from Adobe, GSK, HGGC and more.\n"
     ]
    }
   ],
   "source": [
    "print(compileddoc[0])"
   ]
  },
  {
   "cell_type": "code",
   "execution_count": 18,
   "id": "a01240d3-3e4f-46ff-b9a3-d4425b9ec805",
   "metadata": {},
   "outputs": [],
   "source": [
    "from nltk.corpus import stopwords\n",
    "import string\n",
    "from nltk.stem import WordNetLemmatizer\n",
    "\n",
    "stopwords = set(stopwords.words('english'))\n",
    "exclude = set(string.punctuation)\n",
    "lemma = WordNetLemmatizer()\n",
    "\n",
    "def clean(document):\n",
    "    stopwordremoval = \" \".join([i for i in document.lower().split() if i not in stopwords])\n",
    "    punctuationremoval = ''.join(ch for ch in stopwordremoval if ch not in exclude)\n",
    "    normalized = \" \".join(lemma.lemmatize(word) for word in punctuationremoval.split())\n",
    "    return normalized\n",
    "\n",
    "final_doc = [clean(document).split() for document in compileddoc]\n"
   ]
  },
  {
   "cell_type": "code",
   "execution_count": 22,
   "id": "c0aa3267-9318-4d71-98dd-ba21ca51ef15",
   "metadata": {},
   "outputs": [
    {
     "name": "stdout",
     "output_type": "stream",
     "text": [
      "Before text-cleaning: Our board of directors boasts 11 seasoned technology and business leaders from Adobe, GSK, HGGC and more.\n",
      "After text-cleaning: ['board', 'director', 'boast', '11', 'seasoned', 'technology', 'business', 'leader', 'adobe', 'gsk', 'hggc', 'more']\n"
     ]
    }
   ],
   "source": [
    "print(\"Before text-cleaning:\", compileddoc[0]) \n",
    "\n",
    "print(\"After text-cleaning:\",final_doc[0])"
   ]
  },
  {
   "cell_type": "code",
   "execution_count": 24,
   "id": "1f5b905d-0ceb-4583-aeda-1d6d356cc5a3",
   "metadata": {},
   "outputs": [],
   "source": [
    "import gensim\n",
    "from gensim import corpora\n",
    "\n",
    "dictionary = corpora.Dictionary(final_doc)\n",
    "\n",
    "DT_matrix = [dictionary.doc2bow(doc) for doc in final_doc]\n",
    "\n",
    "Lda_object = gensim.models.ldamodel.LdaModel"
   ]
  },
  {
   "cell_type": "code",
   "execution_count": 25,
   "id": "068aa06d-b722-47c7-ae8e-38ddc7827a75",
   "metadata": {},
   "outputs": [
    {
     "name": "stdout",
     "output_type": "stream",
     "text": [
      "[(0, '0.025*\"director\" + 0.024*\"great\" + 0.021*\"information\" + 0.021*\"job\" + 0.021*\"assessment\"'), (1, '0.037*\"course\" + 0.026*\"more\" + 0.026*\"best\" + 0.025*\"work\" + 0.021*\"u\"')]\n"
     ]
    }
   ],
   "source": [
    "lda_model_1 = Lda_object(DT_matrix, num_topics=2, id2word = dictionary)\n",
    "\n",
    "print(lda_model_1.print_topics(num_topics=2, num_words=5))"
   ]
  },
  {
   "cell_type": "code",
   "execution_count": null,
   "id": "071f626e-923e-4d91-bfdb-c96f175671b1",
   "metadata": {},
   "outputs": [],
   "source": []
  }
 ],
 "metadata": {
  "kernelspec": {
   "display_name": "Python 3 (ipykernel)",
   "language": "python",
   "name": "python3"
  },
  "language_info": {
   "codemirror_mode": {
    "name": "ipython",
    "version": 3
   },
   "file_extension": ".py",
   "mimetype": "text/x-python",
   "name": "python",
   "nbconvert_exporter": "python",
   "pygments_lexer": "ipython3",
   "version": "3.12.3"
  }
 },
 "nbformat": 4,
 "nbformat_minor": 5
}
